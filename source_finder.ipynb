{
  "nbformat": 4,
  "nbformat_minor": 0,
  "metadata": {
    "colab": {
      "name": "source_finder.ipynb",
      "provenance": [],
      "collapsed_sections": [],
      "authorship_tag": "ABX9TyNyaC0PjMfL72LR37+JnkUg",
      "include_colab_link": true
    },
    "kernelspec": {
      "name": "python3",
      "display_name": "Python 3"
    },
    "language_info": {
      "name": "python"
    }
  },
  "cells": [
    {
      "cell_type": "markdown",
      "metadata": {
        "id": "view-in-github",
        "colab_type": "text"
      },
      "source": [
        "<a href=\"https://colab.research.google.com/github/ali7amie/Tianlai-M2-Internship-/blob/master/source_finder.ipynb\" target=\"_parent\"><img src=\"https://colab.research.google.com/assets/colab-badge.svg\" alt=\"Open In Colab\"/></a>"
      ]
    },
    {
      "cell_type": "code",
      "source": [
        "\n",
        "!pip install photutils\n",
        "!pip install healpy\n",
        "import numpy as np\n",
        "import healpy as hp\n",
        "import matplotlib.pyplot as plt\n",
        "from photutils.datasets import make_noise_image\n",
        "import scipy.ndimage as nd\n",
        "import numpy.ma as ma"
      ],
      "metadata": {
        "colab": {
          "base_uri": "https://localhost:8080/"
        },
        "id": "LRYtEqz2Sr5z",
        "outputId": "163f852b-ff5b-4fd9-c7d3-132ecf1637d4"
      },
      "execution_count": null,
      "outputs": [
        {
          "output_type": "stream",
          "name": "stdout",
          "text": [
            "Looking in indexes: https://pypi.org/simple, https://us-python.pkg.dev/colab-wheels/public/simple/\n",
            "Collecting photutils\n",
            "  Downloading photutils-1.3.0-cp37-cp37m-manylinux_2_5_x86_64.manylinux1_x86_64.manylinux_2_17_x86_64.manylinux2014_x86_64.whl (826 kB)\n",
            "\u001b[K     |████████████████████████████████| 826 kB 12.9 MB/s \n",
            "\u001b[?25hRequirement already satisfied: numpy>=1.17 in /usr/local/lib/python3.7/dist-packages (from photutils) (1.21.6)\n",
            "Requirement already satisfied: astropy>=4.0 in /usr/local/lib/python3.7/dist-packages (from photutils) (4.3.1)\n",
            "Requirement already satisfied: pyerfa>=1.7.3 in /usr/local/lib/python3.7/dist-packages (from astropy>=4.0->photutils) (2.0.0.1)\n",
            "Requirement already satisfied: importlib-metadata in /usr/local/lib/python3.7/dist-packages (from astropy>=4.0->photutils) (4.12.0)\n",
            "Requirement already satisfied: typing-extensions>=3.6.4 in /usr/local/lib/python3.7/dist-packages (from importlib-metadata->astropy>=4.0->photutils) (4.1.1)\n",
            "Requirement already satisfied: zipp>=0.5 in /usr/local/lib/python3.7/dist-packages (from importlib-metadata->astropy>=4.0->photutils) (3.8.1)\n",
            "Installing collected packages: photutils\n",
            "Successfully installed photutils-1.3.0\n",
            "Looking in indexes: https://pypi.org/simple, https://us-python.pkg.dev/colab-wheels/public/simple/\n",
            "Collecting healpy\n",
            "  Downloading healpy-1.16.1-cp37-cp37m-manylinux_2_17_x86_64.manylinux2014_x86_64.whl (23.7 MB)\n",
            "\u001b[K     |████████████████████████████████| 23.7 MB 1.4 MB/s \n",
            "\u001b[?25hRequirement already satisfied: astropy in /usr/local/lib/python3.7/dist-packages (from healpy) (4.3.1)\n",
            "Requirement already satisfied: scipy in /usr/local/lib/python3.7/dist-packages (from healpy) (1.7.3)\n",
            "Requirement already satisfied: matplotlib in /usr/local/lib/python3.7/dist-packages (from healpy) (3.2.2)\n",
            "Requirement already satisfied: numpy>=1.13 in /usr/local/lib/python3.7/dist-packages (from healpy) (1.21.6)\n",
            "Requirement already satisfied: pyerfa>=1.7.3 in /usr/local/lib/python3.7/dist-packages (from astropy->healpy) (2.0.0.1)\n",
            "Requirement already satisfied: importlib-metadata in /usr/local/lib/python3.7/dist-packages (from astropy->healpy) (4.12.0)\n",
            "Requirement already satisfied: zipp>=0.5 in /usr/local/lib/python3.7/dist-packages (from importlib-metadata->astropy->healpy) (3.8.1)\n",
            "Requirement already satisfied: typing-extensions>=3.6.4 in /usr/local/lib/python3.7/dist-packages (from importlib-metadata->astropy->healpy) (4.1.1)\n",
            "Requirement already satisfied: pyparsing!=2.0.4,!=2.1.2,!=2.1.6,>=2.0.1 in /usr/local/lib/python3.7/dist-packages (from matplotlib->healpy) (3.0.9)\n",
            "Requirement already satisfied: kiwisolver>=1.0.1 in /usr/local/lib/python3.7/dist-packages (from matplotlib->healpy) (1.4.4)\n",
            "Requirement already satisfied: python-dateutil>=2.1 in /usr/local/lib/python3.7/dist-packages (from matplotlib->healpy) (2.8.2)\n",
            "Requirement already satisfied: cycler>=0.10 in /usr/local/lib/python3.7/dist-packages (from matplotlib->healpy) (0.11.0)\n",
            "Requirement already satisfied: six>=1.5 in /usr/local/lib/python3.7/dist-packages (from python-dateutil>=2.1->matplotlib->healpy) (1.15.0)\n",
            "Installing collected packages: healpy\n",
            "Successfully installed healpy-1.16.1\n"
          ]
        }
      ]
    },
    {
      "cell_type": "markdown",
      "source": [
        "# Introduction"
      ],
      "metadata": {
        "id": "aQnHG1l_TAdI"
      }
    },
    {
      "cell_type": "markdown",
      "source": [
        "# Simulating sky maps"
      ],
      "metadata": {
        "id": "uANAikuqTKEw"
      }
    },
    {
      "cell_type": "markdown",
      "source": [
        "## Simulating with Python"
      ],
      "metadata": {
        "id": "e8PaiOdnG3BO"
      }
    },
    {
      "cell_type": "markdown",
      "source": [
        "Simulate a gaussian source "
      ],
      "metadata": {
        "id": "hLLnp6G3Eh4K"
      }
    },
    {
      "cell_type": "code",
      "source": [
        "import k2jansky\n",
        "\n",
        "def create_gaussian_src(src_size,src_std,src_flux_jansky):\n",
        "    # create a source with amplitude of 1 k\n",
        "    x,y = np.meshgrid(np.linspace(-(src_size//2),src_size//2,src_size),np.linspace(-(src_size//2),src_size//2,src_size))\n",
        "    mean_x=0\n",
        "    mean_y=0\n",
        "    src=np.exp(-(x-mean_x)**2/(2*src_std**2)) * np.exp(-(y-mean_y)**2/(2*src_std**2))\n",
        "    flux_kelvin_of_1k_amplitude=np.sum(src)\n",
        "    flux_jansky_of_1k_amplitude=k2jansky.k2jansky('freq',1300*10**6,16.5,1,flux_kelvin_of_1k_amplitude)\n",
        "    # add the src_flux_jansky factor\n",
        "    src=(src_flux_jansky/flux_jansky_of_1k_amplitude)*np.exp(-(x-mean_x)**2/(2*src_std**2)) * np.exp(-(y-mean_y)**2/(2*src_std**2))\n",
        "    return src\n",
        "\n",
        "d=create_gaussian_src(5,1.1,1)\n",
        "\n",
        "\n",
        "\n",
        "    "
      ],
      "metadata": {
        "id": "vabdCEuyEg4u",
        "colab": {
          "base_uri": "https://localhost:8080/",
          "height": 402
        },
        "outputId": "64e6b0d2-5ac2-4509-ed41-ac318ccedd45"
      },
      "execution_count": null,
      "outputs": [
        {
          "output_type": "stream",
          "name": "stdout",
          "text": [
            "/content\n",
            "sample_data\n"
          ]
        },
        {
          "output_type": "error",
          "ename": "ModuleNotFoundError",
          "evalue": "ignored",
          "traceback": [
            "\u001b[0;31m---------------------------------------------------------------------------\u001b[0m",
            "\u001b[0;31mModuleNotFoundError\u001b[0m                       Traceback (most recent call last)",
            "\u001b[0;32m<ipython-input-2-37d484c1ab55>\u001b[0m in \u001b[0;36m<module>\u001b[0;34m()\u001b[0m\n\u001b[1;32m      2\u001b[0m \u001b[0mget_ipython\u001b[0m\u001b[0;34m(\u001b[0m\u001b[0;34m)\u001b[0m\u001b[0;34m.\u001b[0m\u001b[0msystem\u001b[0m\u001b[0;34m(\u001b[0m\u001b[0;34m'pwd'\u001b[0m\u001b[0;34m)\u001b[0m\u001b[0;34m\u001b[0m\u001b[0;34m\u001b[0m\u001b[0m\n\u001b[1;32m      3\u001b[0m \u001b[0mget_ipython\u001b[0m\u001b[0;34m(\u001b[0m\u001b[0;34m)\u001b[0m\u001b[0;34m.\u001b[0m\u001b[0msystem\u001b[0m\u001b[0;34m(\u001b[0m\u001b[0;34m'ls'\u001b[0m\u001b[0;34m)\u001b[0m\u001b[0;34m\u001b[0m\u001b[0;34m\u001b[0m\u001b[0m\n\u001b[0;32m----> 4\u001b[0;31m \u001b[0;32mimport\u001b[0m \u001b[0mk2jansky\u001b[0m\u001b[0;34m\u001b[0m\u001b[0;34m\u001b[0m\u001b[0m\n\u001b[0m\u001b[1;32m      5\u001b[0m \u001b[0;34m\u001b[0m\u001b[0m\n\u001b[1;32m      6\u001b[0m \u001b[0;32mdef\u001b[0m \u001b[0mcreate_gaussian_src\u001b[0m\u001b[0;34m(\u001b[0m\u001b[0msrc_size\u001b[0m\u001b[0;34m,\u001b[0m\u001b[0msrc_std\u001b[0m\u001b[0;34m,\u001b[0m\u001b[0msrc_flux_jansky\u001b[0m\u001b[0;34m)\u001b[0m\u001b[0;34m:\u001b[0m\u001b[0;34m\u001b[0m\u001b[0;34m\u001b[0m\u001b[0m\n",
            "\u001b[0;31mModuleNotFoundError\u001b[0m: No module named 'k2jansky'",
            "",
            "\u001b[0;31m---------------------------------------------------------------------------\u001b[0;32m\nNOTE: If your import is failing due to a missing package, you can\nmanually install dependencies using either !pip or !apt.\n\nTo view examples of installing some common dependencies, click the\n\"Open Examples\" button below.\n\u001b[0;31m---------------------------------------------------------------------------\u001b[0m\n"
          ],
          "errorDetails": {
            "actions": [
              {
                "action": "open_url",
                "actionText": "Open Examples",
                "url": "/notebooks/snippets/importing_libraries.ipynb"
              }
            ]
          }
        }
      ]
    },
    {
      "cell_type": "markdown",
      "source": [
        "Simulate a map"
      ],
      "metadata": {
        "id": "tIGPw22-oC1l"
      }
    },
    {
      "cell_type": "code",
      "source": [
        "\n",
        "\n",
        "import create_gaussian_src\n",
        "\n",
        "\n",
        "\n",
        "def create_map(map_size,src_number,src_size,src_std,src_flux_jansky,noise_std):\n",
        "    \"\"\" This function create a map as a 2D Numpy array, enter map_size,src_number,src_size,src_std,src_flux_jansky,noise_std\"\"\"\n",
        "\n",
        "    #create empty map\n",
        "    rectmap=np.zeros((map_size,map_size))\n",
        "\n",
        "    #create a gaussian source\n",
        "    src=create_gaussian_src.create_gaussian_src(src_size,src_std,src_flux_jansky)\n",
        "\n",
        "    #add src_number source to with random position, but with 2*src_size distant from the boundary.\n",
        "    x=np.random.random_integers(low=2*src_size,high=map_size-2*src_size,size=src_number)\n",
        "    y=np.random.random_integers(low=2*src_size,high=map_size-2*src_size,size=src_number) #generate random position, note that x and y here represent a matrix like coordinate, so the number of column or absice is y, the number of row or ordonnée is x\n",
        "    \n",
        "    for i in range(0,len(x)):\n",
        "            rectmap[y[i]-(src_size//2):y[i]+((src_size//2)+1),x[i]-(src_size//2):x[i]+((src_size//2)+1)]=src\n",
        "    \n",
        "    #add gaussian noise\n",
        "    noise =  make_noise_image((map_size,map_size), distribution='gaussian', mean=0,stddev=noise_std)\n",
        "    rectmap=rectmap+noise\n",
        "    catalog=np.transpose((y,x,src_flux_jansky*np.ones_like(x)))#upper pix_center, pix center to index. pix corner ??? plot??    \n",
        "    return (rectmap,catalog)\n",
        "\n",
        "simulation=create_map(50,10,5,1.1,1,0.001)  \n"
      ],
      "metadata": {
        "id": "_5aQFbM4oCiz",
        "colab": {
          "base_uri": "https://localhost:8080/",
          "height": 368
        },
        "outputId": "220a9eb1-cf87-4aa4-eb6b-91636c74c77c"
      },
      "execution_count": null,
      "outputs": [
        {
          "output_type": "error",
          "ename": "ModuleNotFoundError",
          "evalue": "ignored",
          "traceback": [
            "\u001b[0;31m---------------------------------------------------------------------------\u001b[0m",
            "\u001b[0;31mModuleNotFoundError\u001b[0m                       Traceback (most recent call last)",
            "\u001b[0;32m<ipython-input-14-3c0c78ffa6eb>\u001b[0m in \u001b[0;36m<module>\u001b[0;34m()\u001b[0m\n\u001b[1;32m      1\u001b[0m \u001b[0;34m\u001b[0m\u001b[0m\n\u001b[1;32m      2\u001b[0m \u001b[0;34m\u001b[0m\u001b[0m\n\u001b[0;32m----> 3\u001b[0;31m \u001b[0;32mimport\u001b[0m \u001b[0mcreate_gaussian_src\u001b[0m\u001b[0;34m\u001b[0m\u001b[0;34m\u001b[0m\u001b[0m\n\u001b[0m\u001b[1;32m      4\u001b[0m \u001b[0;34m\u001b[0m\u001b[0m\n\u001b[1;32m      5\u001b[0m \u001b[0;34m\u001b[0m\u001b[0m\n",
            "\u001b[0;31mModuleNotFoundError\u001b[0m: No module named 'create_gaussian_src'",
            "",
            "\u001b[0;31m---------------------------------------------------------------------------\u001b[0;32m\nNOTE: If your import is failing due to a missing package, you can\nmanually install dependencies using either !pip or !apt.\n\nTo view examples of installing some common dependencies, click the\n\"Open Examples\" button below.\n\u001b[0;31m---------------------------------------------------------------------------\u001b[0m\n"
          ],
          "errorDetails": {
            "actions": [
              {
                "action": "open_url",
                "actionText": "Open Examples",
                "url": "/notebooks/snippets/importing_libraries.ipynb"
              }
            ]
          }
        }
      ]
    },
    {
      "cell_type": "markdown",
      "source": [
        "## Map making with JSKyMap software"
      ],
      "metadata": {
        "id": "E0J07U3nHI7G"
      }
    },
    {
      "cell_type": "markdown",
      "source": [
        "# Source finder"
      ],
      "metadata": {
        "id": "XB15hpO1HR0O"
      }
    },
    {
      "cell_type": "markdown",
      "source": [
        "## Detailed notebook description"
      ],
      "metadata": {
        "id": "y7ZTlWxxTRlC"
      }
    },
    {
      "cell_type": "markdown",
      "source": [
        "### Input map"
      ],
      "metadata": {
        "id": "g4UJmI2gQn7U"
      }
    },
    {
      "cell_type": "markdown",
      "source": [
        "#### Maps made with JSKyMap"
      ],
      "metadata": {
        "id": "11H25tSHRBdJ"
      }
    },
    {
      "cell_type": "markdown",
      "source": [
        "This program take a map to give source catalog. Two kinds of input are used. The standard kind consist of spherical full sky map in fits format and healpix pixelization. The other kind is a practical solution while developing the algorithm, in this case the input consist of numpy array.\n",
        "\n",
        "<br>\n",
        "\n",
        "**First step** <br> \n",
        "Take the fits file <br> convert it to numpy array of spherical map healpix pixel (with healpy) <br> crop a projection of NCP and put it in a numpy array of rectangular map pixels\n",
        "\n",
        "\n"
      ],
      "metadata": {
        "id": "H4SOJeUre_XX"
      }
    },
    {
      "cell_type": "code",
      "source": [
        "\n",
        "def fits2map(fits_filename,map_size, map_resolution, projection_center):\n",
        "\n",
        "  ''' This function take a fits file, convert it into full spherical sky map,\n",
        "   and return a gnomonic projection around a given point \n",
        "\n",
        "   fits_filename : str\n",
        "                   FITS file name\n",
        "\n",
        "   map_size : int\n",
        "              the side length in pixels of of the square gnomonic map\n",
        "\n",
        "   map_resolution : int\n",
        "                    map resolution in arcminutes\n",
        "\n",
        "   projection_center : tuple\n",
        "                       (longitude, latitude) the coordinate of the projection center in degrees '''\n",
        "\n",
        "  #convert the fits file into healpix pixelized full sky map\n",
        "  spherical_map = hp.read_map(fits_filename,dtype = None)\n",
        "\n",
        "  #crop a gnomonic view at NCP\n",
        "  rectmap = hp.gnomview(spherical_map,rot=[projection_center[0],projection_center[1]],reso = map_resolution,xsize = map_size,ysize = map_size,return_projected_map = True,no_plot = True)\n",
        "\n",
        "  return rectmap\n",
        "\n",
        "rectmap2=fits2map(\"haslam1300eq.fits\",50,18,(180,90))\n"
      ],
      "metadata": {
        "id": "Mm0S9HnzPe1N",
        "colab": {
          "base_uri": "https://localhost:8080/",
          "height": 341
        },
        "outputId": "fd545a56-ee27-4b87-a7a3-728a5e5ec17b"
      },
      "execution_count": null,
      "outputs": [
        {
          "output_type": "error",
          "ename": "FileNotFoundError",
          "evalue": "ignored",
          "traceback": [
            "\u001b[0;31m---------------------------------------------------------------------------\u001b[0m",
            "\u001b[0;31mFileNotFoundError\u001b[0m                         Traceback (most recent call last)",
            "\u001b[0;32m<ipython-input-42-612a2632843c>\u001b[0m in \u001b[0;36m<module>\u001b[0;34m()\u001b[0m\n\u001b[1;32m     25\u001b[0m   \u001b[0;32mreturn\u001b[0m \u001b[0mrectmap\u001b[0m\u001b[0;34m\u001b[0m\u001b[0;34m\u001b[0m\u001b[0m\n\u001b[1;32m     26\u001b[0m \u001b[0;34m\u001b[0m\u001b[0m\n\u001b[0;32m---> 27\u001b[0;31m \u001b[0mrectmap2\u001b[0m\u001b[0;34m=\u001b[0m\u001b[0mfits2map\u001b[0m\u001b[0;34m(\u001b[0m\u001b[0;34m\"haslam1300eq.fits\"\u001b[0m\u001b[0;34m,\u001b[0m\u001b[0;36m50\u001b[0m\u001b[0;34m,\u001b[0m\u001b[0;36m18\u001b[0m\u001b[0;34m,\u001b[0m\u001b[0;34m(\u001b[0m\u001b[0;36m180\u001b[0m\u001b[0;34m,\u001b[0m\u001b[0;36m90\u001b[0m\u001b[0;34m)\u001b[0m\u001b[0;34m)\u001b[0m\u001b[0;34m\u001b[0m\u001b[0;34m\u001b[0m\u001b[0m\n\u001b[0m",
            "\u001b[0;32m<ipython-input-42-612a2632843c>\u001b[0m in \u001b[0;36mfits2map\u001b[0;34m(fits_filename, map_size, map_resolution, projection_center)\u001b[0m\n\u001b[1;32m     18\u001b[0m \u001b[0;34m\u001b[0m\u001b[0m\n\u001b[1;32m     19\u001b[0m   \u001b[0;31m#convert the fits file into healpix pixelized full sky map\u001b[0m\u001b[0;34m\u001b[0m\u001b[0;34m\u001b[0m\u001b[0;34m\u001b[0m\u001b[0m\n\u001b[0;32m---> 20\u001b[0;31m   \u001b[0mspherical_map\u001b[0m \u001b[0;34m=\u001b[0m \u001b[0mhp\u001b[0m\u001b[0;34m.\u001b[0m\u001b[0mread_map\u001b[0m\u001b[0;34m(\u001b[0m\u001b[0mfits_filename\u001b[0m\u001b[0;34m,\u001b[0m\u001b[0mdtype\u001b[0m \u001b[0;34m=\u001b[0m \u001b[0;32mNone\u001b[0m\u001b[0;34m)\u001b[0m\u001b[0;34m\u001b[0m\u001b[0;34m\u001b[0m\u001b[0m\n\u001b[0m\u001b[1;32m     21\u001b[0m \u001b[0;34m\u001b[0m\u001b[0m\n\u001b[1;32m     22\u001b[0m   \u001b[0;31m#crop a gnomonic view at NCP\u001b[0m\u001b[0;34m\u001b[0m\u001b[0;34m\u001b[0m\u001b[0;34m\u001b[0m\u001b[0m\n",
            "\u001b[0;32m/usr/local/lib/python3.7/dist-packages/astropy/utils/decorators.py\u001b[0m in \u001b[0;36mwrapper\u001b[0;34m(*args, **kwargs)\u001b[0m\n\u001b[1;32m    534\u001b[0m                     \u001b[0mwarnings\u001b[0m\u001b[0;34m.\u001b[0m\u001b[0mwarn\u001b[0m\u001b[0;34m(\u001b[0m\u001b[0mmessage\u001b[0m\u001b[0;34m,\u001b[0m \u001b[0mwarning_type\u001b[0m\u001b[0;34m,\u001b[0m \u001b[0mstacklevel\u001b[0m\u001b[0;34m=\u001b[0m\u001b[0;36m2\u001b[0m\u001b[0;34m)\u001b[0m\u001b[0;34m\u001b[0m\u001b[0;34m\u001b[0m\u001b[0m\n\u001b[1;32m    535\u001b[0m \u001b[0;34m\u001b[0m\u001b[0m\n\u001b[0;32m--> 536\u001b[0;31m             \u001b[0;32mreturn\u001b[0m \u001b[0mfunction\u001b[0m\u001b[0;34m(\u001b[0m\u001b[0;34m*\u001b[0m\u001b[0margs\u001b[0m\u001b[0;34m,\u001b[0m \u001b[0;34m**\u001b[0m\u001b[0mkwargs\u001b[0m\u001b[0;34m)\u001b[0m\u001b[0;34m\u001b[0m\u001b[0;34m\u001b[0m\u001b[0m\n\u001b[0m\u001b[1;32m    537\u001b[0m \u001b[0;34m\u001b[0m\u001b[0m\n\u001b[1;32m    538\u001b[0m         \u001b[0;32mreturn\u001b[0m \u001b[0mwrapper\u001b[0m\u001b[0;34m\u001b[0m\u001b[0;34m\u001b[0m\u001b[0m\n",
            "\u001b[0;32m/usr/local/lib/python3.7/dist-packages/healpy/fitsfunc.py\u001b[0m in \u001b[0;36mread_map\u001b[0;34m(filename, field, dtype, nest, partial, hdu, h, verbose, memmap)\u001b[0m\n\u001b[1;32m    368\u001b[0m     \u001b[0mopened_file\u001b[0m \u001b[0;34m=\u001b[0m \u001b[0;32mFalse\u001b[0m\u001b[0;34m\u001b[0m\u001b[0;34m\u001b[0m\u001b[0m\n\u001b[1;32m    369\u001b[0m     \u001b[0;32mif\u001b[0m \u001b[0misinstance\u001b[0m\u001b[0;34m(\u001b[0m\u001b[0mfilename\u001b[0m\u001b[0;34m,\u001b[0m \u001b[0mallowed_paths\u001b[0m\u001b[0;34m)\u001b[0m\u001b[0;34m:\u001b[0m\u001b[0;34m\u001b[0m\u001b[0;34m\u001b[0m\u001b[0m\n\u001b[0;32m--> 370\u001b[0;31m         \u001b[0mfilename\u001b[0m \u001b[0;34m=\u001b[0m \u001b[0mpf\u001b[0m\u001b[0;34m.\u001b[0m\u001b[0mopen\u001b[0m\u001b[0;34m(\u001b[0m\u001b[0mfilename\u001b[0m\u001b[0;34m,\u001b[0m \u001b[0mmemmap\u001b[0m\u001b[0;34m=\u001b[0m\u001b[0mmemmap\u001b[0m\u001b[0;34m)\u001b[0m\u001b[0;34m\u001b[0m\u001b[0;34m\u001b[0m\u001b[0m\n\u001b[0m\u001b[1;32m    371\u001b[0m         \u001b[0mopened_file\u001b[0m \u001b[0;34m=\u001b[0m \u001b[0;32mTrue\u001b[0m\u001b[0;34m\u001b[0m\u001b[0;34m\u001b[0m\u001b[0m\n\u001b[1;32m    372\u001b[0m \u001b[0;34m\u001b[0m\u001b[0m\n",
            "\u001b[0;32m/usr/local/lib/python3.7/dist-packages/astropy/io/fits/hdu/hdulist.py\u001b[0m in \u001b[0;36mfitsopen\u001b[0;34m(name, mode, memmap, save_backup, cache, lazy_load_hdus, ignore_missing_simple, **kwargs)\u001b[0m\n\u001b[1;32m    172\u001b[0m \u001b[0;34m\u001b[0m\u001b[0m\n\u001b[1;32m    173\u001b[0m     return HDUList.fromfile(name, mode, memmap, save_backup, cache,\n\u001b[0;32m--> 174\u001b[0;31m                             lazy_load_hdus, ignore_missing_simple, **kwargs)\n\u001b[0m\u001b[1;32m    175\u001b[0m \u001b[0;34m\u001b[0m\u001b[0m\n\u001b[1;32m    176\u001b[0m \u001b[0;34m\u001b[0m\u001b[0m\n",
            "\u001b[0;32m/usr/local/lib/python3.7/dist-packages/astropy/io/fits/hdu/hdulist.py\u001b[0m in \u001b[0;36mfromfile\u001b[0;34m(cls, fileobj, mode, memmap, save_backup, cache, lazy_load_hdus, ignore_missing_simple, **kwargs)\u001b[0m\n\u001b[1;32m    409\u001b[0m                              \u001b[0msave_backup\u001b[0m\u001b[0;34m=\u001b[0m\u001b[0msave_backup\u001b[0m\u001b[0;34m,\u001b[0m \u001b[0mcache\u001b[0m\u001b[0;34m=\u001b[0m\u001b[0mcache\u001b[0m\u001b[0;34m,\u001b[0m\u001b[0;34m\u001b[0m\u001b[0;34m\u001b[0m\u001b[0m\n\u001b[1;32m    410\u001b[0m                              \u001b[0mignore_missing_simple\u001b[0m\u001b[0;34m=\u001b[0m\u001b[0mignore_missing_simple\u001b[0m\u001b[0;34m,\u001b[0m\u001b[0;34m\u001b[0m\u001b[0;34m\u001b[0m\u001b[0m\n\u001b[0;32m--> 411\u001b[0;31m                              lazy_load_hdus=lazy_load_hdus, **kwargs)\n\u001b[0m\u001b[1;32m    412\u001b[0m \u001b[0;34m\u001b[0m\u001b[0m\n\u001b[1;32m    413\u001b[0m     \u001b[0;34m@\u001b[0m\u001b[0mclassmethod\u001b[0m\u001b[0;34m\u001b[0m\u001b[0;34m\u001b[0m\u001b[0m\n",
            "\u001b[0;32m/usr/local/lib/python3.7/dist-packages/astropy/io/fits/hdu/hdulist.py\u001b[0m in \u001b[0;36m_readfrom\u001b[0;34m(cls, fileobj, data, mode, memmap, cache, lazy_load_hdus, ignore_missing_simple, **kwargs)\u001b[0m\n\u001b[1;32m   1062\u001b[0m             \u001b[0;32mif\u001b[0m \u001b[0;32mnot\u001b[0m \u001b[0misinstance\u001b[0m\u001b[0;34m(\u001b[0m\u001b[0mfileobj\u001b[0m\u001b[0;34m,\u001b[0m \u001b[0m_File\u001b[0m\u001b[0;34m)\u001b[0m\u001b[0;34m:\u001b[0m\u001b[0;34m\u001b[0m\u001b[0;34m\u001b[0m\u001b[0m\n\u001b[1;32m   1063\u001b[0m                 \u001b[0;31m# instantiate a FITS file object (ffo)\u001b[0m\u001b[0;34m\u001b[0m\u001b[0;34m\u001b[0m\u001b[0;34m\u001b[0m\u001b[0m\n\u001b[0;32m-> 1064\u001b[0;31m                 \u001b[0mfileobj\u001b[0m \u001b[0;34m=\u001b[0m \u001b[0m_File\u001b[0m\u001b[0;34m(\u001b[0m\u001b[0mfileobj\u001b[0m\u001b[0;34m,\u001b[0m \u001b[0mmode\u001b[0m\u001b[0;34m=\u001b[0m\u001b[0mmode\u001b[0m\u001b[0;34m,\u001b[0m \u001b[0mmemmap\u001b[0m\u001b[0;34m=\u001b[0m\u001b[0mmemmap\u001b[0m\u001b[0;34m,\u001b[0m \u001b[0mcache\u001b[0m\u001b[0;34m=\u001b[0m\u001b[0mcache\u001b[0m\u001b[0;34m)\u001b[0m\u001b[0;34m\u001b[0m\u001b[0;34m\u001b[0m\u001b[0m\n\u001b[0m\u001b[1;32m   1065\u001b[0m             \u001b[0;31m# The Astropy mode is determined by the _File initializer if the\u001b[0m\u001b[0;34m\u001b[0m\u001b[0;34m\u001b[0m\u001b[0;34m\u001b[0m\u001b[0m\n\u001b[1;32m   1066\u001b[0m             \u001b[0;31m# supplied mode was None\u001b[0m\u001b[0;34m\u001b[0m\u001b[0;34m\u001b[0m\u001b[0;34m\u001b[0m\u001b[0m\n",
            "\u001b[0;32m/usr/local/lib/python3.7/dist-packages/astropy/utils/decorators.py\u001b[0m in \u001b[0;36mwrapper\u001b[0;34m(*args, **kwargs)\u001b[0m\n\u001b[1;32m    534\u001b[0m                     \u001b[0mwarnings\u001b[0m\u001b[0;34m.\u001b[0m\u001b[0mwarn\u001b[0m\u001b[0;34m(\u001b[0m\u001b[0mmessage\u001b[0m\u001b[0;34m,\u001b[0m \u001b[0mwarning_type\u001b[0m\u001b[0;34m,\u001b[0m \u001b[0mstacklevel\u001b[0m\u001b[0;34m=\u001b[0m\u001b[0;36m2\u001b[0m\u001b[0;34m)\u001b[0m\u001b[0;34m\u001b[0m\u001b[0;34m\u001b[0m\u001b[0m\n\u001b[1;32m    535\u001b[0m \u001b[0;34m\u001b[0m\u001b[0m\n\u001b[0;32m--> 536\u001b[0;31m             \u001b[0;32mreturn\u001b[0m \u001b[0mfunction\u001b[0m\u001b[0;34m(\u001b[0m\u001b[0;34m*\u001b[0m\u001b[0margs\u001b[0m\u001b[0;34m,\u001b[0m \u001b[0;34m**\u001b[0m\u001b[0mkwargs\u001b[0m\u001b[0;34m)\u001b[0m\u001b[0;34m\u001b[0m\u001b[0;34m\u001b[0m\u001b[0m\n\u001b[0m\u001b[1;32m    537\u001b[0m \u001b[0;34m\u001b[0m\u001b[0m\n\u001b[1;32m    538\u001b[0m         \u001b[0;32mreturn\u001b[0m \u001b[0mwrapper\u001b[0m\u001b[0;34m\u001b[0m\u001b[0;34m\u001b[0m\u001b[0m\n",
            "\u001b[0;32m/usr/local/lib/python3.7/dist-packages/astropy/io/fits/file.py\u001b[0m in \u001b[0;36m__init__\u001b[0;34m(self, fileobj, mode, memmap, overwrite, cache)\u001b[0m\n\u001b[1;32m    168\u001b[0m             \u001b[0mself\u001b[0m\u001b[0;34m.\u001b[0m\u001b[0m_open_fileobj\u001b[0m\u001b[0;34m(\u001b[0m\u001b[0mfileobj\u001b[0m\u001b[0;34m,\u001b[0m \u001b[0mmode\u001b[0m\u001b[0;34m,\u001b[0m \u001b[0moverwrite\u001b[0m\u001b[0;34m)\u001b[0m\u001b[0;34m\u001b[0m\u001b[0;34m\u001b[0m\u001b[0m\n\u001b[1;32m    169\u001b[0m         \u001b[0;32melif\u001b[0m \u001b[0misinstance\u001b[0m\u001b[0;34m(\u001b[0m\u001b[0mfileobj\u001b[0m\u001b[0;34m,\u001b[0m \u001b[0;34m(\u001b[0m\u001b[0mstr\u001b[0m\u001b[0;34m,\u001b[0m \u001b[0mbytes\u001b[0m\u001b[0;34m)\u001b[0m\u001b[0;34m)\u001b[0m\u001b[0;34m:\u001b[0m\u001b[0;34m\u001b[0m\u001b[0;34m\u001b[0m\u001b[0m\n\u001b[0;32m--> 170\u001b[0;31m             \u001b[0mself\u001b[0m\u001b[0;34m.\u001b[0m\u001b[0m_open_filename\u001b[0m\u001b[0;34m(\u001b[0m\u001b[0mfileobj\u001b[0m\u001b[0;34m,\u001b[0m \u001b[0mmode\u001b[0m\u001b[0;34m,\u001b[0m \u001b[0moverwrite\u001b[0m\u001b[0;34m)\u001b[0m\u001b[0;34m\u001b[0m\u001b[0;34m\u001b[0m\u001b[0m\n\u001b[0m\u001b[1;32m    171\u001b[0m         \u001b[0;32melse\u001b[0m\u001b[0;34m:\u001b[0m\u001b[0;34m\u001b[0m\u001b[0;34m\u001b[0m\u001b[0m\n\u001b[1;32m    172\u001b[0m             \u001b[0mself\u001b[0m\u001b[0;34m.\u001b[0m\u001b[0m_open_filelike\u001b[0m\u001b[0;34m(\u001b[0m\u001b[0mfileobj\u001b[0m\u001b[0;34m,\u001b[0m \u001b[0mmode\u001b[0m\u001b[0;34m,\u001b[0m \u001b[0moverwrite\u001b[0m\u001b[0;34m)\u001b[0m\u001b[0;34m\u001b[0m\u001b[0;34m\u001b[0m\u001b[0m\n",
            "\u001b[0;32m/usr/local/lib/python3.7/dist-packages/astropy/io/fits/file.py\u001b[0m in \u001b[0;36m_open_filename\u001b[0;34m(self, filename, mode, overwrite)\u001b[0m\n\u001b[1;32m    556\u001b[0m \u001b[0;34m\u001b[0m\u001b[0m\n\u001b[1;32m    557\u001b[0m         \u001b[0;32mif\u001b[0m \u001b[0;32mnot\u001b[0m \u001b[0mself\u001b[0m\u001b[0;34m.\u001b[0m\u001b[0m_try_read_compressed\u001b[0m\u001b[0;34m(\u001b[0m\u001b[0mself\u001b[0m\u001b[0;34m.\u001b[0m\u001b[0mname\u001b[0m\u001b[0;34m,\u001b[0m \u001b[0mmagic\u001b[0m\u001b[0;34m,\u001b[0m \u001b[0mmode\u001b[0m\u001b[0;34m,\u001b[0m \u001b[0mext\u001b[0m\u001b[0;34m=\u001b[0m\u001b[0mext\u001b[0m\u001b[0;34m)\u001b[0m\u001b[0;34m:\u001b[0m\u001b[0;34m\u001b[0m\u001b[0;34m\u001b[0m\u001b[0m\n\u001b[0;32m--> 558\u001b[0;31m             \u001b[0mself\u001b[0m\u001b[0;34m.\u001b[0m\u001b[0m_file\u001b[0m \u001b[0;34m=\u001b[0m \u001b[0mfileobj_open\u001b[0m\u001b[0;34m(\u001b[0m\u001b[0mself\u001b[0m\u001b[0;34m.\u001b[0m\u001b[0mname\u001b[0m\u001b[0;34m,\u001b[0m \u001b[0mIO_FITS_MODES\u001b[0m\u001b[0;34m[\u001b[0m\u001b[0mmode\u001b[0m\u001b[0;34m]\u001b[0m\u001b[0;34m)\u001b[0m\u001b[0;34m\u001b[0m\u001b[0;34m\u001b[0m\u001b[0m\n\u001b[0m\u001b[1;32m    559\u001b[0m             \u001b[0mself\u001b[0m\u001b[0;34m.\u001b[0m\u001b[0mclose_on_error\u001b[0m \u001b[0;34m=\u001b[0m \u001b[0;32mTrue\u001b[0m\u001b[0;34m\u001b[0m\u001b[0;34m\u001b[0m\u001b[0m\n\u001b[1;32m    560\u001b[0m \u001b[0;34m\u001b[0m\u001b[0m\n",
            "\u001b[0;32m/usr/local/lib/python3.7/dist-packages/astropy/io/fits/util.py\u001b[0m in \u001b[0;36mfileobj_open\u001b[0;34m(filename, mode)\u001b[0m\n\u001b[1;32m    388\u001b[0m     \"\"\"\n\u001b[1;32m    389\u001b[0m \u001b[0;34m\u001b[0m\u001b[0m\n\u001b[0;32m--> 390\u001b[0;31m     \u001b[0;32mreturn\u001b[0m \u001b[0mopen\u001b[0m\u001b[0;34m(\u001b[0m\u001b[0mfilename\u001b[0m\u001b[0;34m,\u001b[0m \u001b[0mmode\u001b[0m\u001b[0;34m,\u001b[0m \u001b[0mbuffering\u001b[0m\u001b[0;34m=\u001b[0m\u001b[0;36m0\u001b[0m\u001b[0;34m)\u001b[0m\u001b[0;34m\u001b[0m\u001b[0;34m\u001b[0m\u001b[0m\n\u001b[0m\u001b[1;32m    391\u001b[0m \u001b[0;34m\u001b[0m\u001b[0m\n\u001b[1;32m    392\u001b[0m \u001b[0;34m\u001b[0m\u001b[0m\n",
            "\u001b[0;31mFileNotFoundError\u001b[0m: [Errno 2] No such file or directory: 'haslam1300eq.fits'"
          ]
        }
      ]
    },
    {
      "cell_type": "markdown",
      "source": [
        "#### Maps made with python"
      ],
      "metadata": {
        "id": "9u81sc6LRXgJ"
      }
    },
    {
      "cell_type": "code",
      "source": [
        "rectmap=simulation[0]\n",
        "simulated_catalog=simulation[1]\n",
        "\n",
        "plt.figure(figsize=[12.8, 9.6])\n",
        "plt.imshow(rectmap)\n",
        "plt.colorbar()\n",
        "plt.title('gaussian noise + gaussian shape source [Kelvin]')\n",
        "plt.show()\n",
        "\n",
        "\n",
        "simulation_dataframe=pd.DataFrame(simulated_catalog,columns=['vertical coor[pixel]','horizontal coor[pixel]','flux[Jy]'])\n",
        "simulation_dataframe"
      ],
      "metadata": {
        "colab": {
          "base_uri": "https://localhost:8080/",
          "height": 232
        },
        "id": "OkqtbbyTTluu",
        "outputId": "9b18e844-da2d-45ab-e33d-e598176c23fd"
      },
      "execution_count": null,
      "outputs": [
        {
          "output_type": "error",
          "ename": "NameError",
          "evalue": "ignored",
          "traceback": [
            "\u001b[0;31m---------------------------------------------------------------------------\u001b[0m",
            "\u001b[0;31mNameError\u001b[0m                                 Traceback (most recent call last)",
            "\u001b[0;32m<ipython-input-6-f6bd076fb35d>\u001b[0m in \u001b[0;36m<module>\u001b[0;34m()\u001b[0m\n\u001b[0;32m----> 1\u001b[0;31m \u001b[0mrectmap\u001b[0m\u001b[0;34m=\u001b[0m\u001b[0msimulation\u001b[0m\u001b[0;34m[\u001b[0m\u001b[0;36m0\u001b[0m\u001b[0;34m]\u001b[0m\u001b[0;34m\u001b[0m\u001b[0;34m\u001b[0m\u001b[0m\n\u001b[0m\u001b[1;32m      2\u001b[0m \u001b[0msimulated_catalog\u001b[0m\u001b[0;34m=\u001b[0m\u001b[0msimulation\u001b[0m\u001b[0;34m[\u001b[0m\u001b[0;36m1\u001b[0m\u001b[0;34m]\u001b[0m\u001b[0;34m\u001b[0m\u001b[0;34m\u001b[0m\u001b[0m\n\u001b[1;32m      3\u001b[0m \u001b[0;34m\u001b[0m\u001b[0m\n\u001b[1;32m      4\u001b[0m \u001b[0mplt\u001b[0m\u001b[0;34m.\u001b[0m\u001b[0mfigure\u001b[0m\u001b[0;34m(\u001b[0m\u001b[0mfigsize\u001b[0m\u001b[0;34m=\u001b[0m\u001b[0;34m[\u001b[0m\u001b[0;36m12.8\u001b[0m\u001b[0;34m,\u001b[0m \u001b[0;36m9.6\u001b[0m\u001b[0;34m]\u001b[0m\u001b[0;34m)\u001b[0m\u001b[0;34m\u001b[0m\u001b[0;34m\u001b[0m\u001b[0m\n\u001b[1;32m      5\u001b[0m \u001b[0mplt\u001b[0m\u001b[0;34m.\u001b[0m\u001b[0mimshow\u001b[0m\u001b[0;34m(\u001b[0m\u001b[0mrectmap\u001b[0m\u001b[0;34m)\u001b[0m\u001b[0;34m\u001b[0m\u001b[0;34m\u001b[0m\u001b[0m\n",
            "\u001b[0;31mNameError\u001b[0m: name 'simulation' is not defined"
          ]
        }
      ]
    },
    {
      "cell_type": "markdown",
      "source": [
        "**Second step** <br> Now, we the map is a numpy array. We execute the src finder on it <br> Global background estimation <br> Execute the detection criteria equation <br> if no detection give ????? <br> else <br> sort by signal to noise <br> hierarchical merging <br> compute barycenter <br> give a final data frame"
      ],
      "metadata": {
        "id": "T6gseO72mpjF"
      }
    },
    {
      "cell_type": "markdown",
      "source": [
        "### Global background estimation"
      ],
      "metadata": {
        "id": "58gedTnbMsvn"
      }
    },
    {
      "cell_type": "code",
      "source": [
        "def rectmap_statistics(rectmap):\n",
        "    return(np.median(rectmap),np.std(rectmap))\n"
      ],
      "metadata": {
        "id": "n3isujNPpQpR"
      },
      "execution_count": null,
      "outputs": []
    },
    {
      "cell_type": "markdown",
      "source": [
        "Creating the kernels and detection tools before execute the detection criteria\n",
        "<br>\n",
        "we used three kernels : cental, intermediate, and peripheric <br> (**could be made with open CV???**)"
      ],
      "metadata": {
        "id": "v_ePZpWsqgNR"
      }
    },
    {
      "cell_type": "markdown",
      "source": [
        "### Detection kernels"
      ],
      "metadata": {
        "id": "ildTVTPhMzDp"
      }
    },
    {
      "cell_type": "code",
      "source": [
        "def pad_with(vector, pad_width, iaxis, kwargs):\n",
        "    pad_value = kwargs.get('padder', 1)\n",
        "    vector[:pad_width[0]] = pad_value\n",
        "    vector[-pad_width[1]:] = pad_value\n",
        "\n",
        "\n",
        "def create_kernels(detection_kernels_size):\n",
        "\n",
        "\n",
        "    ''' This function take the size of kernels and give the kernels \n",
        "\n",
        "    detection_kernels_size: tuple\n",
        "                            (size of central kernel, size of intermediate kernel, size of peripherical kernel) '''\n",
        "\n",
        "\n",
        "    #create the central kernel\n",
        "    normalization1 = 1/detection_kernels_size[0]**2\n",
        "    central_kernel = normalization1 * np.ones((detection_kernels_size[0],detection_kernels_size[0]))\n",
        "\n",
        "    #create intermediate kernel\n",
        "    normalization2 = 1/(detection_kernels_size[1]**2 - detection_kernels_size[0]**2)\n",
        "    intermediate_kernel = normalization2 * np.pad(0*central_detection_kernel,int((detection_kernels_size[1]-detection_kernels_size[0])/2),pad_with)\n",
        "\n",
        "    #create peripherical kernel\n",
        "    normalization3 = 1/(detection_kernels_size[2]**2 - detection_kernels_size[1]**2)\n",
        "    peripherical_kernel = normalization3 * np.pad(0*intermediate_detection_kernel,int((detection_kernels_size[2]-detection_kernels_size[1])/2),pad_with)\n",
        "\n",
        "    \n",
        "    \n",
        "    \n",
        "    return (central_kernel, intermediate_kernel, peripherical_kernel)\n",
        "\n",
        "kernels=create_kernels((3,5,7))\n",
        "\n",
        "\n"
      ],
      "metadata": {
        "id": "1qvLJ_Z2qlYh"
      },
      "execution_count": null,
      "outputs": []
    },
    {
      "cell_type": "code",
      "source": [
        "def create_conv_maps(kernels,detection_kernels_size,rectmap):\n",
        "\n",
        "\n",
        "    ''' This function take three kernels and give convolution maps \n",
        "\n",
        "    kernels: tuple\n",
        "             (central kernel (ndarray), intermediate kernel (ndarray), peripherical kernel (ndarray))\n",
        "             \n",
        "    detection_kernels_size: tuple\n",
        "                            (size of central kernel, size of intermediate kernel, size of peripherical kernel) '''\n",
        "\n",
        "    central_kernel_map=nd.convolve(rectmap,kernels[0])\n",
        "    intermediate_kernel_map=nd.convolve(rectmap,kernels[1])\n",
        "    peripherical_kernel_map=nd.convolve(rectmap,kernels[2])\n",
        "\n",
        "\n",
        "    # an additional kernel wich compute median and std maps (local background)   \n",
        "    peripheric_median_map=np.zeros_like(rectmap)\n",
        "    peripheric_std_map = np.zeros_like(rectmap)\n",
        "    mask=np.array(kernels[2]==0)\n",
        "    for i in range(int(detection_kernels_size[2]/2),rectmap.shape[0]-int(detection_kernels_size[2]/2)):\n",
        "        for j in range(int(detection_kernels_size[2]/2),rectmap.shape[1]-int(detection_kernels_size[2]/2)):\n",
        "            if (detection_kernels_size[2]/2).is_integer()==False:\n",
        "                kernel=rectmap[i-int(detection_kernels_size[2]/2):i+(int(detection_kernels_size[2]/2)+1),j-int(detection_kernels_size[2]/2):j+(int(detection_kernels_size[2]/2)+1)]\n",
        "                    \n",
        "            else:\n",
        "                    \n",
        "                kernel=rectmap[i-int(detection_kernels_size[2]/2):i+int(detection_kernels_size[2]/2),j-int(detection_kernels_size[2]/2):j+int(detection_kernels_size[2]/2)]\n",
        "                    \n",
        "            masked_kernel=ma.masked_array(kernel,mask)\n",
        "            peripheric_std_map[i][j]=np.ma.std(masked_kernel)\n",
        "            peripheric_median_map[i][j]=np.ma.median(masked_kernel)\n",
        "\n",
        "    return (central_kernel_map,intermediate_kernel_map,peripherical_kernel_map,peripheric_median_map,peripheric_std_map)       \n",
        "\n",
        "conv_maps=create_conv_maps(kernels,detection_kernels_size,rectmap)\n",
        "\n",
        "plt.figure(figsize=[35.6, 19.2])\n",
        "title=['avg central kernel','avg intermediate kernel','avg peripherical kernel','median peripherical kernel','std peripherical kernel']\n",
        "for i in range(0,len(conv_maps)):\n",
        "   \n",
        "    plt.subplot(231+i)\n",
        "    plt.imshow(conv_maps[i])\n",
        "    plt.title(title[i])\n",
        "    plt.colorbar()\n",
        "\n",
        "plt.subplot(231+i+1)\n",
        "plt.imshow(rectmap)\n",
        "plt.title('original') \n",
        "plt.colorbar()   \n",
        "\n",
        "plt.show()\n"
      ],
      "metadata": {
        "id": "036etGsVl-Tg"
      },
      "execution_count": null,
      "outputs": []
    },
    {
      "cell_type": "markdown",
      "source": [
        "Now we have the detection kernels <br> we conduct a detection criteria: a pixels belong to a potential source if: avg(central_kernel)>local_bg+n*local_std"
      ],
      "metadata": {
        "id": "3BWmBb7pvhsi"
      }
    },
    {
      "cell_type": "markdown",
      "source": [
        "### Detection condition equation"
      ],
      "metadata": {
        "id": "A5MkDJTeM4qG"
      }
    },
    {
      "cell_type": "code",
      "source": [
        "def detection(conv_maps,n):\n",
        "\n",
        "     ''' This function take convolution maps, manipulate them within detection criteria, \n",
        "     and return list of pixels that belong to potential sources and their amplitude. It is sorted by the S/N ratio\n",
        "\n",
        "    conv_maps: tuple\n",
        "               (avg central map (ndarray), avg intermediate map (ndarray), avg peripherical map (ndarray), median peripherical map (ndarray), std peripherical map (ndarray))\n",
        "             \n",
        "    n: int\n",
        "       The detection threshold '''\n",
        "\n",
        "\n",
        "     threshold = conv_maps[3] + n * global_std \n",
        "     first_condition = conv_maps[0] >= threshold \n",
        "     detected_src_coor_upper_pixcorner = np.where( first_condition )  #this list of coordinate are in the upper system (vertical from top, horizontal from left) and each pixel is localized by its corner\n",
        "     signal = rectmap[detected_src_coor_upper_pixcorner]\n",
        "     local_bg = conv_maps[3][detected_src_coor_upper_pixcorner] \n",
        "     signal_to_noise = signal/local_bg\n",
        "     raw_detected_pix=np.column_stack((detected_src_coor_upper_pixcorner[0],detected_src_coor_upper_pixcorner[1],signal,local_bg,signal_to_noise))\n",
        "     raw_detection = pd.DataFrame(raw_detected_pix,columns=['vertical coor','horizontal coor','Amplitude [K]','Local bg','S/N'])\n",
        "     sorter=np.flip(np.argsort(raw_detection['S/N']))\n",
        "     sorted_raw_detection = raw_detection.iloc[sorter]\n",
        "     return sorted_raw_detection\n",
        "\n",
        "sorted_raw_detection = detection(conv_maps,1)\n",
        "sorted_raw_detection\n",
        "\n",
        "\n",
        "\n"
      ],
      "metadata": {
        "id": "aHUunzSWw5Va"
      },
      "execution_count": null,
      "outputs": []
    },
    {
      "cell_type": "markdown",
      "source": [
        "Now we have a list of pixels that are said to belong to potential sources. We should sort these pixels into sources. We sort pixels by their S/N ratio, and then merge them hierarchicaly. We set a threshold of temperature, and assign other pixels inside an aperture to the targeted one.<br>\n",
        "Sorting by signal to noise"
      ],
      "metadata": {
        "id": "_xPLAmUKsWS_"
      }
    },
    {
      "cell_type": "markdown",
      "source": [
        "### Sorting by signal to noise"
      ],
      "metadata": {
        "id": "EznVXFDZM_gN"
      }
    },
    {
      "cell_type": "markdown",
      "source": [
        "### Hierarchical merging"
      ],
      "metadata": {
        "id": "W44D7UMzNKyF"
      }
    },
    {
      "cell_type": "code",
      "source": [
        "aperture=(2.5,3)\n",
        "table = sorted_signal_to_noise_and_coor_list\n",
        "all_agglomerations_index=[]\n",
        "for i in range(0,len(table[:,0])):\n",
        "    if table[:,5][i]==0:\n",
        "        pixels_index_in_each_src=[]\n",
        "        for j in range(0,len(table[:,0])):\n",
        "            if ( table[:,3][j] >= table[:,3][i]-aperture[0] ) and ( table[:,3][j] <= table[:,3][i]+aperture[0] ) and  ( table[:,4][j] >= table[:,4][i]-aperture[0] ) and ( table[:,4][j] <= table[:,4][i]+aperture[0] ):\n",
        "                offset=np.sqrt( ( table[:,3][i] - table[:,3][j] )**2 + (table[:,4][i] - table[:,4][j])**2 )\n",
        "                if offset<=aperture[1]:\n",
        "                    pixels_index_in_each_src.append(int(table[:,0][j]))\n",
        "                    table[:,5][j]=1\n",
        "        all_agglomerations_index.append(pixels_index_in_each_src)\n",
        "all_agglomerations_index"
      ],
      "metadata": {
        "id": "kqik2oBZyGRk"
      },
      "execution_count": null,
      "outputs": []
    },
    {
      "cell_type": "markdown",
      "source": [
        "### Compute barycenters"
      ],
      "metadata": {
        "id": "VrKwbDrezJRy"
      }
    },
    {
      "cell_type": "code",
      "source": [
        "all_agglomerations=np.transpose(( np.arange(0,len(all_agglomerations_index)), all_agglomerations_index))  \n",
        "x_barycenter_list=[]\n",
        "y_barycenter_list=[]\n",
        "for i in range(0,len(all_agglomerations[:,1])):\n",
        "    x_barycenter=np.sum(signal_to_noise_and_coor_list[:,4][all_agglomerations[:,1][i]]*signal_to_noise_and_coor_list[:,1][all_agglomerations[:,1][i]])/np.sum(signal_to_noise_and_coor_list[:,1][all_agglomerations[:,1][i]])\n",
        "    y_barycenter=np.sum(signal_to_noise_and_coor_list[:,3][all_agglomerations[:,1][i]]*signal_to_noise_and_coor_list[:,1][all_agglomerations[:,1][i]])/np.sum(signal_to_noise_and_coor_list[:,1][all_agglomerations[:,1][i]])\n",
        "    x_barycenter_list.append(x_barycenter)\n",
        "    y_barycenter_list.append(y_barycenter)\n",
        "\n",
        "barycenter_list=np.transpose((np.round(y_barycenter_list,1).astype(int),np.round(x_barycenter_list,1).astype(int) ))\n"
      ],
      "metadata": {
        "id": "dypZ2ClzzMhz"
      },
      "execution_count": null,
      "outputs": []
    },
    {
      "cell_type": "markdown",
      "source": [
        "### Computing fluxes"
      ],
      "metadata": {
        "id": "ORQFOA6qgmRu"
      }
    },
    {
      "cell_type": "code",
      "source": [
        "flux_integration_kernel=np.ones((detection_kernels_size[2],detection_kernels_size[2]))\n",
        "flux_map=nd.convolve(rectmap,flux_integration_kernel)-(detection_kernels_size[2]**2)*peripheric_median_map  # what to do with negative median - use farer and thiner ring\n",
        "#coor=np.transpose((barycenter_list[0],barycenter_list[1]))\n",
        "coor=( barycenter_list[:,1] , barycenter_list[:,0] )\n",
        "flux_list_k=flux_map[coor]\n",
        "flux_list_jansky=k2jansky.k2jansky('freq',1300*10**6,16.5,1,flux_list_k)\n",
        "\n",
        "\n",
        "flux_list=(flux_list_k,flux_list_jansky)\n",
        "     "
      ],
      "metadata": {
        "id": "atOQTdq5glHA"
      },
      "execution_count": null,
      "outputs": []
    },
    {
      "cell_type": "markdown",
      "source": [
        "### Three cartesian coordinate system"
      ],
      "metadata": {
        "id": "1pGUHVQeqW9K"
      }
    },
    {
      "cell_type": "code",
      "source": [
        "import convert_map_index\n",
        "\n",
        "simulated_coor_center=convert_map_index.convert_upper_to_center( [ simulated_catalog[:,0],simulated_catalog[:,1] ] , np.shape(rectmap)[0],len(simulated_catalog[:,0]) )[4]\n",
        "coor_center=convert_map_index.convert_upper_to_center(detected_src_coor_upper_pixcorner,np.shape(rectmap)[0],len(detected_src_coor_upper_pixcorner[0]))[4]\n",
        "bar_center=convert_map_index.convert_upper_to_center([barycenter_list[:,1],barycenter_list[:,0]],np.shape(rectmap)[0],len(barycenter_list[0]))[4]\n",
        "\n"
      ],
      "metadata": {
        "id": "_PUu4gyRqc3V"
      },
      "execution_count": null,
      "outputs": []
    },
    {
      "cell_type": "markdown",
      "source": [
        "### World coordinate"
      ],
      "metadata": {
        "id": "LiIW5lEO0TIb"
      }
    },
    {
      "cell_type": "code",
      "source": [
        "import pixel2world\n",
        "projection_center=(90,180)\n",
        "map_resolution=18\n",
        "\n",
        "barycenter_list_world=pixel2world.pixel2world(projection_center,map_resolution,bar_center)\n",
        "simulated_src_world=pixel2world.pixel2world(projection_center,map_resolution,simulated_coor_center)\n"
      ],
      "metadata": {
        "id": "nGrBRd5k0VTD"
      },
      "execution_count": null,
      "outputs": []
    },
    {
      "cell_type": "markdown",
      "source": [
        "### Detected sources catalog"
      ],
      "metadata": {
        "id": "jivOGi7f1VFS"
      }
    },
    {
      "cell_type": "code",
      "source": [
        "final_catalog=np.transpose((barycenter_list_world[:,0],barycenter_list_world[:,1],flux_list[1]))\n",
        "dd=np.argsort(final_catalog[:,0])\n",
        "final_catalog=final_catalog[dd]\n",
        "final_catalog=np.column_stack( ( range(0,len(final_catalog)) , final_catalog ))\n",
        "\n",
        "import pandas as pd\n",
        "\n",
        "detection_dataframe=pd.DataFrame(final_catalog,columns=['index','dec[deg]','ra[deg]','flux[Jy]'])\n",
        "detection_dataframe\n"
      ],
      "metadata": {
        "id": "DQ65hlA-1YKn"
      },
      "execution_count": null,
      "outputs": []
    },
    {
      "cell_type": "markdown",
      "source": [
        "### Simulated sources catalog"
      ],
      "metadata": {
        "id": "452BC06J2fOB"
      }
    },
    {
      "cell_type": "code",
      "source": [
        "simulated_final_catalog=np.transpose((simulated_src_world[:,0],simulated_src_world[:,1],simulated_catalog[:,2]))\n",
        "ff=np.argsort(simulated_final_catalog[:,0])\n",
        "simulated_final_catalog=simulated_final_catalog[ff]\n",
        "simulated_final_catalog=np.column_stack( ( range(0,len(simulated_final_catalog)) , simulated_final_catalog ))\n",
        "\n",
        "simulated_final_catalog\n",
        "\n",
        "simulation_dataframe=pd.DataFrame(simulated_final_catalog,columns=['index','dec[deg]','ra[deg]','flux[Jy]'])\n",
        "simulation_dataframe\n"
      ],
      "metadata": {
        "id": "DWe3KeDH2g7t"
      },
      "execution_count": null,
      "outputs": []
    },
    {
      "cell_type": "markdown",
      "source": [
        "Plot"
      ],
      "metadata": {
        "id": "bJtgKGsKEkL9"
      }
    },
    {
      "cell_type": "code",
      "source": [
        " import ploting_test\n",
        " ploting_test.ploting_test(rectmap,coor_center,bar_center,simulated_coor_center)"
      ],
      "metadata": {
        "id": "YKc7N7KhElDs"
      },
      "execution_count": null,
      "outputs": []
    },
    {
      "cell_type": "markdown",
      "source": [
        "## Object oriented version"
      ],
      "metadata": {
        "id": "mIxkCQ1NzO8W"
      }
    }
  ]
}